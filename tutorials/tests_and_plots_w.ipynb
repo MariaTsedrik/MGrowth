{
 "cells": [
  {
   "cell_type": "code",
   "execution_count": 1,
   "metadata": {},
   "outputs": [],
   "source": [
    "import numpy as np\n",
    "import MGrowth as mg\n",
    "import time\n",
    "import matplotlib.pyplot as plt\n",
    "from scipy.integrate import odeint, quad\n",
    "from scipy.interpolate import interp1d\n",
    "from scipy.interpolate import CubicSpline\n",
    "from matplotlib import rc\n",
    "rc('text', usetex=True)\n",
    "rc('font',**{'family':'serif','serif':['Times']})\n",
    "import seaborn as sns\n",
    "palette = sns.color_palette('Dark2') \n",
    "colors = palette  \n",
    "SMALL_SIZE = 14\n",
    "MEDIUM_SIZE = 22\n",
    "BIGGER_SIZE = 28\n",
    "VERY_SMALL= 14\n",
    "plt.rc('axes', titlesize=MEDIUM_SIZE)\n",
    "plt.rc('axes', labelsize=MEDIUM_SIZE)\n",
    "plt.rc('xtick', labelsize=SMALL_SIZE)\n",
    "plt.rc('ytick', labelsize=SMALL_SIZE)\n",
    "plt.rc('font', size=SMALL_SIZE)\n",
    "plt.rc('legend', fontsize=VERY_SMALL)"
   ]
  },
  {
   "cell_type": "markdown",
   "metadata": {},
   "source": [
    "# Test $w$-interpolator with CPL \n",
    "In this notebook we an demonstrate example of using $w(a)$-interpolators. We take a CPL cosmology with $\\Omega_{\\rm m}=0.3$ and $w(a)=w_0+w_a(1-a)$ and test our implementation of the $w(a)$-interpolator."
   ]
  },
  {
   "cell_type": "code",
   "execution_count": 2,
   "metadata": {},
   "outputs": [],
   "source": [
    "def Omega_m(a, omega0, w_interp):\n",
    "    integrand_w = lambda a_in: 3.*(1.+w_interp(a_in))/a_in\n",
    "    omegaL = (1.-omega0) * np.exp(quad(integrand_w, a, 1.)[0])\n",
    "    E2 = omega0/a**3 + omegaL\n",
    "    return omega0/a**3/E2\n",
    "\n",
    "def dlnH_dlna_DE(a, omega0, w_interp):\n",
    "    integrand_w = lambda a_in: 3.*(1.+w_interp(a_in))/a_in\n",
    "    omegaL = (1.-omega0) * np.exp(quad( integrand_w, a, 1.)[0])\n",
    "    E2 = omega0/a**3 + omegaL\n",
    "    return  -1.5 * (omega0/a**3 + (1+w_interp(a))*omegaL)/E2    \n",
    "\n",
    "\n",
    "def DE_D_derivatives(D, a, w_interp, omega0):\n",
    "    return [D[1], -D[1]/a*(3.+dlnH_dlna_DE(a, omega0, w_interp))+1.5*D[0]/a**2*Omega_m(a, omega0, w_interp)]"
   ]
  },
  {
   "cell_type": "code",
   "execution_count": 3,
   "metadata": {},
   "outputs": [],
   "source": [
    "a_start = 1.e-4\n",
    "a_arr = np.linspace(1e-3, 1, 512)\n",
    "aa = np.hstack(([a_start], a_arr))\n",
    "omega0 = 0.3\n",
    "w0 = -0.4\n",
    "wa = -1.7\n",
    "\n",
    "CPL = w0+wa*(1.-a_arr)\n",
    "w_interpolator = interp1d(a_arr, CPL, bounds_error=False,\n",
    "                kind='cubic',\n",
    "                fill_value=(CPL[0], CPL[-1])) "
   ]
  },
  {
   "cell_type": "code",
   "execution_count": 4,
   "metadata": {},
   "outputs": [
    {
     "name": "stdout",
     "output_type": "stream",
     "text": [
      "Interpolator time:  0.15811610221862793\n"
     ]
    }
   ],
   "source": [
    "start = time.time()\n",
    "D, dDda = odeint(DE_D_derivatives, [a_start, 1.], aa, args=(w_interpolator, omega0)).T  \n",
    "f = aa*dDda/D\n",
    "finish = time.time()\n",
    "Da, fa = D[1:], f[1:] \n",
    "print('Interpolator time: ', finish-start)"
   ]
  },
  {
   "cell_type": "code",
   "execution_count": 5,
   "metadata": {},
   "outputs": [
    {
     "name": "stdout",
     "output_type": "stream",
     "text": [
      "CPL time:  0.0010650157928466797\n"
     ]
    }
   ],
   "source": [
    "background ={'Omega_m': omega0,\n",
    "            'h' : 0.68,\n",
    "            'w0': w0,\n",
    "            'wa': wa,\n",
    "            'a_arr': a_arr}\n",
    "cosmo = mg.w0waCDM(background)\n",
    "start = time.time()\n",
    "D_cpl, f_cpl = cosmo.growth_parameters()\n",
    "finish = time.time()\n",
    "print('CPL time: ', finish-start)"
   ]
  },
  {
   "cell_type": "code",
   "execution_count": 6,
   "metadata": {},
   "outputs": [
    {
     "data": {
      "image/png": "[encoded data removed]",
      "text/plain": [
       "<Figure size 800x400 with 2 Axes>"
      ]
     },
     "metadata": {},
     "output_type": "display_data"
    }
   ],
   "source": [
    "fig, ax = plt.subplots(figsize=(8, 4), ncols=2, facecolor='w')\n",
    "ax[0].axhline(y=1, color='k', label='CPL')\n",
    "ax[1].axhline(y=1, color='k')\n",
    "ax[0].semilogx(a_arr, Da/D_cpl, label='$w(a)$ interpolator')\n",
    "ax[1].semilogx(a_arr, fa/f_cpl)\n",
    "ax[0].set_xlabel('$a$')\n",
    "ax[1].set_xlabel('$a$')\n",
    "ax[0].set_ylabel('$D/D_{\\\\rm CPL}$')\n",
    "ax[1].set_ylabel('$f/f_{\\\\rm CPL}$')\n",
    "ax[0].legend(loc='upper right', title_fontsize=16)\n",
    "ax[0].set_ylim(0.99, 1.01)\n",
    "ax[1].set_ylim(0.99, 1.01)\n",
    "plt.tight_layout()\n",
    "plt.show()"
   ]
  },
  {
   "cell_type": "markdown",
   "metadata": {},
   "source": [
    "# JAX\n",
    "Let's try JAX to speedup the calculation with $w(a)$-interpolator."
   ]
  },
  {
   "cell_type": "markdown",
   "metadata": {},
   "source": []
  },
  {
   "cell_type": "code",
   "execution_count": 7,
   "metadata": {},
   "outputs": [],
   "source": [
    "import jax\n",
    "import jax.numpy as jnp\n",
    "from jax.experimental.ode import odeint\n",
    "import time\n",
    "from jax import jit"
   ]
  },
  {
   "cell_type": "code",
   "execution_count": 8,
   "metadata": {},
   "outputs": [],
   "source": [
    "@jit\n",
    "def interp1d_jax(x, xp, fp):\n",
    "    indices = jnp.clip(jnp.searchsorted(xp, x) - 1, 0, len(xp) - 2)\n",
    "    x0 = xp[indices]\n",
    "    x1 = xp[indices + 1]\n",
    "    y0 = fp[indices]\n",
    "    y1 = fp[indices + 1]\n",
    "    return y0 + (y1 - y0) * (x - x0) / (x1 - x0)\n",
    "\n",
    "@jit\n",
    "def trapz_jax(y, x):\n",
    "    dx = x[1:] - x[:-1]\n",
    "    return jnp.sum(0.5 * dx * (y[1:] + y[:-1]))\n",
    "\n",
    "@jit\n",
    "def Omega_m(a, omega0, a_grid, w_vals):\n",
    "    def integrand(a_in):\n",
    "        w = interp1d_jax(a_in, a_grid, w_vals)\n",
    "        return 3. * (1. + w) / a_in\n",
    "    \n",
    "    a_eval = jnp.linspace(a, 1.0, 256)\n",
    "    w_integrand = integrand(a_eval)\n",
    "    integral = trapz_jax(w_integrand, a_eval)\n",
    "    \n",
    "    omegaL = (1. - omega0) * jnp.exp(integral)\n",
    "    E2 = omega0 / a**3 + omegaL\n",
    "    return omega0 / a**3 / E2\n",
    "\n",
    "@jit\n",
    "def dlnH_dlna_DE(a, omega0, a_grid, w_vals):\n",
    "    def integrand(a_in):\n",
    "        w = interp1d_jax(a_in, a_grid, w_vals)\n",
    "        return 3. * (1. + w) / a_in\n",
    "    \n",
    "    a_eval = jnp.linspace(a, 1.0, 256)\n",
    "    w_integrand = integrand(a_eval)\n",
    "    integral = trapz_jax(w_integrand, a_eval)\n",
    "\n",
    "    omegaL = (1. - omega0) * jnp.exp(integral)\n",
    "    E2 = omega0 / a**3 + omegaL\n",
    "    w_a = interp1d_jax(a, a_grid, w_vals)\n",
    "    return -1.5 * (omega0 / a**3 + (1 + w_a) * omegaL) / E2\n",
    "\n",
    "@jit\n",
    "def DE_D_derivatives(D, a, a_grid, w_vals, omega0):\n",
    "    D1, D2 = D\n",
    "    dlnH = dlnH_dlna_DE(a, omega0, a_grid, w_vals)\n",
    "    Om = Omega_m(a, omega0, a_grid, w_vals)\n",
    "    dD1 = D2\n",
    "    dD2 = -D2 / a * (3. + dlnH) + 1.5 * D1 / a**2 * Om\n",
    "    return jnp.array([dD1, dD2])"
   ]
  },
  {
   "cell_type": "code",
   "execution_count": 9,
   "metadata": {},
   "outputs": [
    {
     "name": "stdout",
     "output_type": "stream",
     "text": [
      "Interpolator time:  0.34557604789733887\n"
     ]
    }
   ],
   "source": [
    "a_start = 1e-4\n",
    "a_arr = jnp.linspace(1e-3, 1.0, 512)\n",
    "aa = jnp.concatenate([jnp.array([a_start]), a_arr])\n",
    "omega0 = 0.3\n",
    "w0, wa = -0.4, -1.7\n",
    "CPL = w0 + wa * (1. - a_arr)\n",
    "\n",
    "# Interpolated w(a) table (for use in JAX interpolation)\n",
    "a_grid = a_arr\n",
    "w_vals = CPL\n",
    "\n",
    "\n",
    "\n",
    "start = time.time()\n",
    "D_sol = odeint(DE_D_derivatives, jnp.array([a_start, 1.0]), aa, a_grid, w_vals, omega0)\n",
    "D, dDda = D_sol.T\n",
    "f = aa * dDda / D\n",
    "finish = time.time()\n",
    "\n",
    "\n",
    "Da, fa = D[1:], f[1:]\n",
    "\n",
    "print('Interpolator time: ', finish - start)"
   ]
  },
  {
   "cell_type": "code",
   "execution_count": 10,
   "metadata": {},
   "outputs": [
    {
     "name": "stdout",
     "output_type": "stream",
     "text": [
      "Interpolator time (second call):  0.0019121170043945312\n"
     ]
    }
   ],
   "source": [
    "start = time.time()\n",
    "D_sol = odeint(DE_D_derivatives, jnp.array([a_start, 1.0]), aa, a_grid, w_vals, omega0)\n",
    "D, dDda = D_sol.T\n",
    "f = aa * dDda / D\n",
    "finish = time.time()\n",
    "\n",
    "Da, fa = D[1:], f[1:]\n",
    "\n",
    "print('Interpolator time (second call): ', finish - start)"
   ]
  },
  {
   "cell_type": "code",
   "execution_count": 11,
   "metadata": {},
   "outputs": [
    {
     "data": {
      "image/png": "[encoded data removed]",
      "text/plain": [
       "<Figure size 800x400 with 2 Axes>"
      ]
     },
     "metadata": {},
     "output_type": "display_data"
    }
   ],
   "source": [
    "fig, ax = plt.subplots(figsize=(8, 4), ncols=2, facecolor='w')\n",
    "ax[0].axhline(y=1, color='k', label='CPL')\n",
    "ax[1].axhline(y=1, color='k')\n",
    "ax[0].semilogx(a_arr, Da/D_cpl, label='$w(a)$ JAX-interpolator')\n",
    "ax[1].semilogx(a_arr, fa/f_cpl)\n",
    "ax[0].set_xlabel('$a$')\n",
    "ax[1].set_xlabel('$a$')\n",
    "ax[0].set_ylabel('$D/D_{\\\\rm CPL}$')\n",
    "ax[1].set_ylabel('$f/f_{\\\\rm CPL}$')\n",
    "ax[0].legend(loc='upper right', title_fontsize=16)\n",
    "ax[0].set_ylim(0.99, 1.01)\n",
    "ax[1].set_ylim(0.99, 1.01)\n",
    "plt.tight_layout()\n",
    "plt.show()"
   ]
  },
  {
   "cell_type": "code",
   "execution_count": null,
   "metadata": {},
   "outputs": [],
   "source": []
  }
 ],
 "metadata": {
  "kernelspec": {
   "display_name": "clean_jax_env",
   "language": "python",
   "name": "python3"
  },
  "language_info": {
   "codemirror_mode": {
    "name": "ipython",
    "version": 3
   },
   "file_extension": ".py",
   "mimetype": "text/x-python",
   "name": "python",
   "nbconvert_exporter": "python",
   "pygments_lexer": "ipython3",
   "version": "3.10.18"
  }
 },
 "nbformat": 4,
 "nbformat_minor": 2
}
