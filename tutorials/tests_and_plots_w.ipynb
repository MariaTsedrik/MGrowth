{
 "cells": [
  {
   "cell_type": "code",
   "execution_count": 1,
   "metadata": {},
   "outputs": [],
   "source": [
    "import numpy as np\n",
    "import MGrowth as mg\n",
    "import time\n",
    "import matplotlib.pyplot as plt\n",
    "from scipy.integrate import odeint, quad\n",
    "from scipy.interpolate import interp1d\n",
    "from scipy.interpolate import CubicSpline\n",
    "from matplotlib import rc\n",
    "rc('text', usetex=True)\n",
    "rc('font',**{'family':'serif','serif':['Times']})\n",
    "import seaborn as sns\n",
    "palette = sns.color_palette('Dark2') \n",
    "colors = palette  \n",
    "SMALL_SIZE = 14\n",
    "MEDIUM_SIZE = 22\n",
    "BIGGER_SIZE = 28\n",
    "VERY_SMALL= 14\n",
    "plt.rc('axes', titlesize=MEDIUM_SIZE)\n",
    "plt.rc('axes', labelsize=MEDIUM_SIZE)\n",
    "plt.rc('xtick', labelsize=SMALL_SIZE)\n",
    "plt.rc('ytick', labelsize=SMALL_SIZE)\n",
    "plt.rc('font', size=SMALL_SIZE)\n",
    "plt.rc('legend', fontsize=VERY_SMALL)"
   ]
  },
  {
   "cell_type": "markdown",
   "metadata": {},
   "source": [
    "# Test $w$-interpolator with CPL \n",
    "In this notebook we an demonstrate example of using $w(a)$-interpolators. We take a CPL cosmology with $\\Omega_{\\rm m}=0.3$ and $w(a)=w_0+w_a(1-a)$ and test our implementation of the $w(a)$-interpolator."
   ]
  },
  {
   "cell_type": "code",
   "execution_count": 2,
   "metadata": {},
   "outputs": [],
   "source": [
    "def Omega_m(a, omega0, w_interp):\n",
    "    integrand_w = lambda a_in: 3.*(1.+w_interp(a_in))/a_in\n",
    "    omegaL = (1.-omega0) * np.exp(quad(integrand_w, a, 1.)[0])\n",
    "    E2 = omega0/a**3 + omegaL\n",
    "    return omega0/a**3/E2\n",
    "\n",
    "def dlnH_dlna_DE(a, omega0, w_interp):\n",
    "    integrand_w = lambda a_in: 3.*(1.+w_interp(a_in))/a_in\n",
    "    omegaL = (1.-omega0) * np.exp(quad( integrand_w, a, 1.)[0])\n",
    "    E2 = omega0/a**3 + omegaL\n",
    "    return  -1.5 * (omega0/a**3 + (1+w_interp(a))*omegaL)/E2    \n",
    "\n",
    "\n",
    "def DE_D_derivatives(D, a, w_interp, omega0):\n",
    "    return [D[1], -D[1]/a*(3.+dlnH_dlna_DE(a, omega0, w_interp))+1.5*D[0]/a**2*Omega_m(a, omega0, w_interp)]"
   ]
  },
  {
   "cell_type": "code",
   "execution_count": 3,
   "metadata": {},
   "outputs": [],
   "source": [
    "a_start = 1.e-4\n",
    "a_arr = np.linspace(1e-3, 1, 512)\n",
    "aa = np.hstack(([a_start], a_arr))\n",
    "omega0 = 0.3\n",
    "w0 = -0.4\n",
    "wa = -1.7\n",
    "\n",
    "CPL = w0+wa*(1.-a_arr)\n",
    "w_interpolator = interp1d(a_arr, CPL, bounds_error=False,\n",
    "                kind='cubic',\n",
    "                fill_value=(CPL[0], CPL[-1])) "
   ]
  },
  {
   "cell_type": "code",
   "execution_count": 4,
   "metadata": {},
   "outputs": [
    {
     "name": "stdout",
     "output_type": "stream",
     "text": [
      "Interpolator time:  0.285031795501709\n"
     ]
    }
   ],
   "source": [
    "start = time.time()\n",
    "D, dDda = odeint(DE_D_derivatives, [a_start, 1.], aa, args=(w_interpolator, omega0)).T  \n",
    "f = aa*dDda/D\n",
    "finish = time.time()\n",
    "Da, fa = D[1:], f[1:] \n",
    "print('Interpolator time: ', finish-start)"
   ]
  },
  {
   "cell_type": "code",
   "execution_count": 5,
   "metadata": {},
   "outputs": [
    {
     "name": "stdout",
     "output_type": "stream",
     "text": [
      "CPL time:  0.0012557506561279297\n"
     ]
    }
   ],
   "source": [
    "background ={'Omega_m': omega0,\n",
    "            'h' : 0.68,\n",
    "            'w0': w0,\n",
    "            'wa': wa,\n",
    "            'a_arr': a_arr}\n",
    "cosmo = mg.w0waCDM(background)\n",
    "start = time.time()\n",
    "D_cpl, f_cpl = cosmo.growth_parameters()\n",
    "finish = time.time()\n",
    "print('CPL time: ', finish-start)"
   ]
  },
  {
   "cell_type": "code",
   "execution_count": 6,
   "metadata": {},
   "outputs": [
    {
     "data": {
      "image/png": "[encoded data removed]",
      "text/plain": [
       "<Figure size 576x288 with 2 Axes>"
      ]
     },
     "metadata": {},
     "output_type": "display_data"
    }
   ],
   "source": [
    "fig, ax = plt.subplots(figsize=(8, 4), ncols=2, facecolor='w')\n",
    "ax[0].axhline(y=1, color='k', label='CPL')\n",
    "ax[1].axhline(y=1, color='k')\n",
    "ax[0].semilogx(a_arr, Da/D_cpl, label='$w(a)$ interpolator')\n",
    "ax[1].semilogx(a_arr, fa/f_cpl)\n",
    "ax[0].set_xlabel('$a$')\n",
    "ax[1].set_xlabel('$a$')\n",
    "ax[0].set_ylabel('$D/D_{\\\\rm CPL}$')\n",
    "ax[1].set_ylabel('$f/f_{\\\\rm CPL}$')\n",
    "ax[0].legend(loc='upper right', title_fontsize=16)\n",
    "ax[0].set_ylim(0.99, 1.01)\n",
    "ax[1].set_ylim(0.99, 1.01)\n",
    "plt.tight_layout()\n",
    "plt.show()"
   ]
  },
  {
   "cell_type": "code",
   "execution_count": null,
   "metadata": {},
   "outputs": [],
   "source": []
  }
 ],
 "metadata": {
  "kernelspec": {
   "display_name": "py37forge",
   "language": "python",
   "name": "python3"
  },
  "language_info": {
   "codemirror_mode": {
    "name": "ipython",
    "version": 3
   },
   "file_extension": ".py",
   "mimetype": "text/x-python",
   "name": "python",
   "nbconvert_exporter": "python",
   "pygments_lexer": "ipython3",
   "version": "3.7.12"
  }
 },
 "nbformat": 4,
 "nbformat_minor": 2
}
